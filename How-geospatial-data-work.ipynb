{
  "nbformat": 4,
  "nbformat_minor": 0,
  "metadata": {
    "colab": {
      "name": "Untitled6.ipynb",
      "provenance": [],
      "authorship_tag": "ABX9TyMf6pfl9V34ZZV3rH6o4JTo",
      "include_colab_link": true
    },
    "kernelspec": {
      "name": "python3",
      "display_name": "Python 3"
    },
    "language_info": {
      "name": "python"
    }
  },
  "cells": [
    {
      "cell_type": "markdown",
      "metadata": {
        "id": "view-in-github",
        "colab_type": "text"
      },
      "source": [
        "<a href=\"https://colab.research.google.com/github/geoinformatics-online/How-geospatial-data-work/blob/main/How-geospatial-data-work.ipynb\" target=\"_parent\"><img src=\"https://colab.research.google.com/assets/colab-badge.svg\" alt=\"Open In Colab\"/></a>"
      ]
    },
    {
      "cell_type": "markdown",
      "source": [
        "# This notebook illustrates the principal of vector and raster geospatial data using python libraries\n",
        "The problem this notebook addresses is how locational data can represent the infinitely many locations (points) that are within any, however small, area of the earth's surface as a  limited (finite) number of data elements. There are two common solutions to this problem, namely vector and raster."
      ],
      "metadata": {
        "id": "NrQaZ4RmK8ci"
      }
    },
    {
      "cell_type": "code",
      "execution_count": null,
      "metadata": {
        "id": "Dkj-jEkb97D5"
      },
      "outputs": [],
      "source": [
        "!pip install geopandas\n"
      ]
    },
    {
      "cell_type": "markdown",
      "source": [
        "The following imports the libaryes used in this notebook"
      ],
      "metadata": {
        "id": "Bji0-yoELHrY"
      }
    },
    {
      "cell_type": "code",
      "source": [
        "# Import the requered libaryes\n",
        "import numpy as np\n",
        "import matplotlib.pyplot as plt\n",
        "import json\n",
        "import geopandas as gpd\n",
        "from shapely.geometry import Point, Polygon, LineString, MultiPoint"
      ],
      "metadata": {
        "id": "Fnka9druLFI4"
      },
      "execution_count": null,
      "outputs": []
    },
    {
      "cell_type": "markdown",
      "source": [
        "# Vector representation\n",
        "Vector representation uses Points, Lines and Polygons for this. A point simply consists of a (X,Y) or a (X,Y,Z) if the pont is to be representet in 3D"
      ],
      "metadata": {
        "id": "NZIDSyZYLPFp"
      }
    },
    {
      "cell_type": "code",
      "source": [
        "p1 = Point(1,1)\n",
        "p2 = Point(1,10)\n",
        "p3 = Point(10,10)\n",
        "p4 = Point(10,1)\n",
        "p5 = Point(5,5)\n",
        "MultiPoint([p1,p2,p3,p4,p5])"
      ],
      "metadata": {
        "id": "gjaM7b2nMzs4"
      },
      "execution_count": null,
      "outputs": []
    },
    {
      "cell_type": "markdown",
      "source": [
        ""
      ],
      "metadata": {
        "id": "v6g0huOQMljo"
      }
    }
  ]
}